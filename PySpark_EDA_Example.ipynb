{
  "nbformat": 4,
  "nbformat_minor": 0,
  "metadata": {
    "colab": {
      "name": "PySpark_EDA_Example.ipynb",
      "provenance": [],
      "authorship_tag": "ABX9TyNXzPpKKzaI6VMWnVgTfz0U",
      "include_colab_link": true
    },
    "kernelspec": {
      "name": "python3",
      "display_name": "Python 3"
    }
  },
  "cells": [
    {
      "cell_type": "markdown",
      "metadata": {
        "id": "view-in-github",
        "colab_type": "text"
      },
      "source": [
        "<a href=\"https://colab.research.google.com/github/fitriindra/BigDataCourseExamples/blob/master/PySpark_EDA_Example.ipynb\" target=\"_parent\"><img src=\"https://colab.research.google.com/assets/colab-badge.svg\" alt=\"Open In Colab\"/></a>"
      ]
    },
    {
      "cell_type": "markdown",
      "metadata": {
        "id": "V6XXSU3LdZ5X",
        "colab_type": "text"
      },
      "source": [
        "# **Contoh proses EDA (Exploratory Data Analysis) pada Dataset Titanic**"
      ]
    },
    {
      "cell_type": "markdown",
      "metadata": {
        "id": "byCfn7Dgdb3H",
        "colab_type": "text"
      },
      "source": [
        "Proses EDA seharusnya dilakukan untuk semua kolom supaya informasi data, sebaran data diketahui sehingga dapat dilakukan *pre-processing* sebelum data dapat diolah menggunakan pemrosesan Big Data (misal MapReduce, *Transformations* dan *Actions* pada RDD, DataFrame, SparkSQL maupun SparkML (*Machine Learning*)\n",
        "\n",
        "Supaya contoh EDA tidak terlalu rumit, pada contoh ini hanya ada satu contoh pemrosesan data pada kolom Age (umur penumpang). Anda diharapkan melakukan proses EDA terhadap  data sesuai kolom-kolom yang ada pada dataset yang Anda pilih"
      ]
    },
    {
      "cell_type": "markdown",
      "metadata": {
        "id": "HZBB-hy6e4cA",
        "colab_type": "text"
      },
      "source": [
        "# **1. Instalasi Spark pada Google Colab**\n",
        "kode di bawah ini hanya dijalankan **satu kali saja** saat runtime pertama kali dijalankan\n",
        "\n"
      ]
    },
    {
      "cell_type": "code",
      "metadata": {
        "id": "UH7H-UOaTr_Z",
        "colab_type": "code",
        "colab": {}
      },
      "source": [
        "!apt-get install openjdk-8-jdk-headless -qq > /dev/null\n",
        "!wget -q http://www-eu.apache.org/dist/spark/spark-2.4.5/spark-2.4.5-bin-hadoop2.7.tgz\n",
        "!tar xf spark-2.4.5-bin-hadoop2.7.tgz\n",
        "!pip install -q findspark"
      ],
      "execution_count": 1,
      "outputs": []
    },
    {
      "cell_type": "code",
      "metadata": {
        "id": "_S2D0iu4TxKW",
        "colab_type": "code",
        "colab": {}
      },
      "source": [
        "import os\n",
        "os.environ[\"JAVA_HOME\"] = \"/usr/lib/jvm/java-8-openjdk-amd64\"\n",
        "os.environ[\"SPARK_HOME\"] = \"/content/spark-2.4.5-bin-hadoop2.7\""
      ],
      "execution_count": 2,
      "outputs": []
    },
    {
      "cell_type": "markdown",
      "metadata": {
        "id": "WVssADNmfKrY",
        "colab_type": "text"
      },
      "source": [
        "# **2. Import library Spark yang sudah diinstal**"
      ]
    },
    {
      "cell_type": "code",
      "metadata": {
        "id": "gRAxEO28TzCL",
        "colab_type": "code",
        "colab": {}
      },
      "source": [
        "import findspark\n",
        "findspark.init(\"spark-2.4.5-bin-hadoop2.7\")# SPARK_HOME\n",
        "from pyspark.sql import SparkSession\n",
        "spark = SparkSession.builder.master(\"local[*]\").getOrCreate()\n",
        "from pyspark.sql.functions import col, avg"
      ],
      "execution_count": 3,
      "outputs": []
    },
    {
      "cell_type": "markdown",
      "metadata": {
        "id": "P9L7ZF8IfaOX",
        "colab_type": "text"
      },
      "source": [
        "**(Opsional) Instalasi Library pyspark_dist_explore**\n",
        "Library ini digunakan untuk menampilkan plot dari Spark DataFrame.\n",
        "Anda dapat menggunakan library lain, misal matplotlib, seaborn, dll"
      ]
    },
    {
      "cell_type": "code",
      "metadata": {
        "id": "XIVgHnuUcCKD",
        "colab_type": "code",
        "colab": {}
      },
      "source": [
        "!pip install -q pyspark_dist_explore"
      ],
      "execution_count": 4,
      "outputs": []
    },
    {
      "cell_type": "code",
      "metadata": {
        "id": "Ml9FjuWIUm_x",
        "colab_type": "code",
        "colab": {}
      },
      "source": [
        "import matplotlib.pyplot as plt\n",
        "from pyspark_dist_explore import Histogram, hist"
      ],
      "execution_count": 5,
      "outputs": []
    },
    {
      "cell_type": "markdown",
      "metadata": {
        "id": "RCtO5jSKfv9z",
        "colab_type": "text"
      },
      "source": [
        "# **3. Inisialisasi SparkContext dan SparkSession**"
      ]
    },
    {
      "cell_type": "code",
      "metadata": {
        "id": "xZEgEAeRT2Yd",
        "colab_type": "code",
        "colab": {}
      },
      "source": [
        "sc = spark.sparkContext\n",
        "spark = SparkSession(sc)\n",
        "\n"
      ],
      "execution_count": 6,
      "outputs": []
    },
    {
      "cell_type": "markdown",
      "metadata": {
        "id": "w4rgOl1yf3Q4",
        "colab_type": "text"
      },
      "source": [
        "# **4. Load Dataset**\n",
        "\n",
        "Dataset berupa file CSV di-load. Lokasi file csv sama dengan lokasi file kode program"
      ]
    },
    {
      "cell_type": "code",
      "metadata": {
        "id": "Ferrb5MsUQMy",
        "colab_type": "code",
        "colab": {
          "base_uri": "https://localhost:8080/",
          "height": 255
        },
        "outputId": "76e2b3b1-9ffc-4b6d-cba3-d0c72696c50c"
      },
      "source": [
        "titanic_df = spark.read.csv(\"TitanicData.csv\", header=True, inferSchema=True)\n",
        "titanic_df.printSchema()            #mengecek schema dari dataset"
      ],
      "execution_count": 7,
      "outputs": [
        {
          "output_type": "stream",
          "text": [
            "root\n",
            " |-- PassengerId: integer (nullable = true)\n",
            " |-- Survived: integer (nullable = true)\n",
            " |-- Pclass: integer (nullable = true)\n",
            " |-- Name: string (nullable = true)\n",
            " |-- Sex: string (nullable = true)\n",
            " |-- Age: double (nullable = true)\n",
            " |-- SibSp: integer (nullable = true)\n",
            " |-- Parch: integer (nullable = true)\n",
            " |-- Ticket: string (nullable = true)\n",
            " |-- Fare: double (nullable = true)\n",
            " |-- Cabin: string (nullable = true)\n",
            " |-- Embarked: string (nullable = true)\n",
            "\n"
          ],
          "name": "stdout"
        }
      ]
    },
    {
      "cell_type": "markdown",
      "metadata": {
        "id": "UrIoZJmUgMMu",
        "colab_type": "text"
      },
      "source": [
        "# **5. Proses EDA**\n"
      ]
    },
    {
      "cell_type": "markdown",
      "metadata": {
        "id": "Aduw1kiHgUHD",
        "colab_type": "text"
      },
      "source": [
        "Pertama kita cek jumlah total data penumpang pada dataset Titanic "
      ]
    },
    {
      "cell_type": "code",
      "metadata": {
        "id": "QPvlxP5fUAd5",
        "colab_type": "code",
        "colab": {
          "base_uri": "https://localhost:8080/",
          "height": 51
        },
        "outputId": "df509071-58f6-4205-de8f-8b8aa054924c"
      },
      "source": [
        "print(\"Jumlah total penumpang:\")\n",
        "titanic_df.count()\n"
      ],
      "execution_count": 8,
      "outputs": [
        {
          "output_type": "stream",
          "text": [
            "Jumlah total penumpang:\n"
          ],
          "name": "stdout"
        },
        {
          "output_type": "execute_result",
          "data": {
            "text/plain": [
              "891"
            ]
          },
          "metadata": {
            "tags": []
          },
          "execution_count": 8
        }
      ]
    },
    {
      "cell_type": "markdown",
      "metadata": {
        "id": "wipgA2xDgbLP",
        "colab_type": "text"
      },
      "source": [
        "Kita gunakan fungsi ``` describe()``` untuk mengetahui statistik data. Pada contoh ini kita cek statistik dari data pada kolom ```Age```.\n"
      ]
    },
    {
      "cell_type": "code",
      "metadata": {
        "id": "-8ZITlkTaBcZ",
        "colab_type": "code",
        "colab": {
          "base_uri": "https://localhost:8080/",
          "height": 187
        },
        "outputId": "a32e2f6a-c548-4332-cb72-59689b5996d9"
      },
      "source": [
        "titanic_df.select('Age').describe().show()"
      ],
      "execution_count": 9,
      "outputs": [
        {
          "output_type": "stream",
          "text": [
            "+-------+------------------+\n",
            "|summary|               Age|\n",
            "+-------+------------------+\n",
            "|  count|               714|\n",
            "|   mean| 29.69911764705882|\n",
            "| stddev|14.526497332334035|\n",
            "|    min|              0.42|\n",
            "|    max|              80.0|\n",
            "+-------+------------------+\n",
            "\n"
          ],
          "name": "stdout"
        }
      ]
    },
    {
      "cell_type": "markdown",
      "metadata": {
        "id": "jF4TMXeeg-q4",
        "colab_type": "text"
      },
      "source": [
        "Untuk melihat perseberan data pada kolom ```Age```, kita plot Histogram data. Hasil plot adalah sebagai berikut:"
      ]
    },
    {
      "cell_type": "code",
      "metadata": {
        "id": "J6SDBqDBT7_O",
        "colab_type": "code",
        "colab": {
          "base_uri": "https://localhost:8080/",
          "height": 320
        },
        "outputId": "b63af950-ba0c-44f0-8cb3-8d430ab12a3e"
      },
      "source": [
        "titanic_df_age = titanic_df.select('Age')\n",
        "\n",
        "fig, axes = plt.subplots()\n",
        "fig.set_size_inches(5, 5)\n",
        "hist(axes, titanic_df_age, bins=20, color=\"red\")\n",
        "plt.show()"
      ],
      "execution_count": 10,
      "outputs": [
        {
          "output_type": "display_data",
          "data": {
            "image/png": "[encoded data removed]",
            "text/plain": [
              "<Figure size 360x360 with 1 Axes>"
            ]
          },
          "metadata": {
            "tags": [],
            "needs_background": "light"
          }
        }
      ]
    },
    {
      "cell_type": "markdown",
      "metadata": {
        "id": "S3fb9BWqhR8t",
        "colab_type": "text"
      },
      "source": [
        "Dapat kita lihat dari sebaran data di atas, tidak terdapat data *outlier*, karena nilai umur > 0 dan < 80 sehingga data umur adalah **valid** (tidak terdapat *outlier*) "
      ]
    },
    {
      "cell_type": "markdown",
      "metadata": {
        "id": "j4roZD7ShCxw",
        "colab_type": "text"
      },
      "source": [
        "Apabila dilihat pada statistik yang kita lihat menggunakan fungsi ```describe()```, data pada kolom ```Age``` hanya berjumlah ```714```, sementara saat kita menghitung jumlah penumpang di awal jumlah total data adalah ```891```. Karena ada data yang \"hilang\" dari statistik maka kita cek apakah ada data yang ```null``` (kosong)"
      ]
    },
    {
      "cell_type": "code",
      "metadata": {
        "id": "pYV8UsJVVAnu",
        "colab_type": "code",
        "colab": {
          "base_uri": "https://localhost:8080/",
          "height": 51
        },
        "outputId": "75ee8c89-7a41-4f2e-d8a1-84a0026db14b"
      },
      "source": [
        "print(\"Jumlah total penumpang dengan kolom Age kosong(null):\")\n",
        "titanic_df.where(col(\"Age\").isNull()).count()"
      ],
      "execution_count": 11,
      "outputs": [
        {
          "output_type": "stream",
          "text": [
            "Jumlah total penumpang dengan kolom Age kosong(null):\n"
          ],
          "name": "stdout"
        },
        {
          "output_type": "execute_result",
          "data": {
            "text/plain": [
              "177"
            ]
          },
          "metadata": {
            "tags": []
          },
          "execution_count": 11
        }
      ]
    },
    {
      "cell_type": "markdown",
      "metadata": {
        "id": "arxHyzQxh5pU",
        "colab_type": "text"
      },
      "source": [
        "Berdasarkan kode di atas, ada ```177``` baris data dengan nilai ```Age = null```.\n",
        "\n",
        "Karena terdapat data null, maka perlu dilakukan *pre-processing* pada data kolom ```Age```. Apabila tidak dilakukan *pre-processing*, maka hasil analisa pada proses selanjutnya akan mengalami kesalahan."
      ]
    },
    {
      "cell_type": "markdown",
      "metadata": {
        "id": "9aeMSdXviYsw",
        "colab_type": "text"
      },
      "source": [
        "# **6. *Pre-processing* Data**"
      ]
    },
    {
      "cell_type": "markdown",
      "metadata": {
        "id": "WBM9xB-Kjuec",
        "colab_type": "text"
      },
      "source": [
        "Data bernilai ```null``` pada kolom ```Age``` berjumlah banyak, oleh karena itu akan mempengaruhi proses analisa data. Oleh karena itu, perlu dilakukan pengisian ```value``` pada kolom ```Age```. \n",
        "\n",
        "Pengisian data bisa dilakukan dengan beberapa cara, misalnya mengganti nilai ```null``` dengan nilai ```0```, mengganti dengan nilai baris sebelumnya, menggunakan ```mean``` (rata-rata), dan lain-lain.\n",
        "\n",
        "Salah satu cara pengisian adalah dengan menggunakan nilai ```mean``` (rata-rata) dari kolom tersebut. Kita akan menggunakan cara ini karena cara lain kurang sesuai: penggantian dengan nilai ```0``` akan tetap membuat data tidak valid karena umur ```0``` artinya penumpang belum lahir, penggantian dengan nilai baris sebelumnya juga tidak valid karena akan mempengaruhi statistik data."
      ]
    },
    {
      "cell_type": "code",
      "metadata": {
        "id": "jNCZ26W1ZIgA",
        "colab_type": "code",
        "colab": {
          "base_uri": "https://localhost:8080/",
          "height": 34
        },
        "outputId": "f367ea6a-578e-4e91-b5ed-1c93588b57c9"
      },
      "source": [
        "mean_age = titanic_df.agg(avg(col(\"Age\"))).first()\n",
        "print(\"rata-rata umur penumpang\", mean_age[0])\n",
        "titanic_df = titanic_df.na.fill(mean_age[0], [\"Age\"])"
      ],
      "execution_count": 12,
      "outputs": [
        {
          "output_type": "stream",
          "text": [
            "rata-rata umur penumpang 29.69911764705882\n"
          ],
          "name": "stdout"
        }
      ]
    },
    {
      "cell_type": "markdown",
      "metadata": {
        "id": "YrED22_njtf1",
        "colab_type": "text"
      },
      "source": [
        "setelah mengisi data ```null``` dengan nilai rata-rata, sekarang kita cek apakah masih ada data yang kosong"
      ]
    },
    {
      "cell_type": "code",
      "metadata": {
        "id": "s9zO3fnPbvLP",
        "colab_type": "code",
        "colab": {
          "base_uri": "https://localhost:8080/",
          "height": 51
        },
        "outputId": "a2d265e4-56e9-4779-c20c-61ebd2145080"
      },
      "source": [
        "print(\"Jumlah total penumpang dengan kolom Age kosong(null):\")\n",
        "titanic_df.where(col(\"Age\").isNull()).count()"
      ],
      "execution_count": 13,
      "outputs": [
        {
          "output_type": "stream",
          "text": [
            "Jumlah total penumpang dengan kolom Age kosong(null):\n"
          ],
          "name": "stdout"
        },
        {
          "output_type": "execute_result",
          "data": {
            "text/plain": [
              "0"
            ]
          },
          "metadata": {
            "tags": []
          },
          "execution_count": 13
        }
      ]
    },
    {
      "cell_type": "code",
      "metadata": {
        "id": "-Yjj2nAck42i",
        "colab_type": "code",
        "colab": {
          "base_uri": "https://localhost:8080/",
          "height": 187
        },
        "outputId": "e5ae1350-96da-483f-af5b-ca7317e51934"
      },
      "source": [
        "titanic_df.select('Age').describe().show()"
      ],
      "execution_count": 14,
      "outputs": [
        {
          "output_type": "stream",
          "text": [
            "+-------+------------------+\n",
            "|summary|               Age|\n",
            "+-------+------------------+\n",
            "|  count|               891|\n",
            "|   mean|29.699117647058763|\n",
            "| stddev|13.002015226002891|\n",
            "|    min|              0.42|\n",
            "|    max|              80.0|\n",
            "+-------+------------------+\n",
            "\n"
          ],
          "name": "stdout"
        }
      ]
    },
    {
      "cell_type": "markdown",
      "metadata": {
        "id": "ttq8aTV4k2Y0",
        "colab_type": "text"
      },
      "source": [
        "Karena data sudah dilakukan pre-processing maka data ```Age``` sudah siap untuk dilakukan analisa pada proses selanjutnya"
      ]
    },
    {
      "cell_type": "code",
      "metadata": {
        "id": "EgpUxt2iT_Pz",
        "colab_type": "code",
        "colab": {}
      },
      "source": [
        "spark.stop()    #digunakan untuk menghentikan SparkSession"
      ],
      "execution_count": 15,
      "outputs": []
    }
  ]
}