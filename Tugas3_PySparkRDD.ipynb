{
  "nbformat": 4,
  "nbformat_minor": 0,
  "metadata": {
    "colab": {
      "name": "Tugas3-PySparkRDD.ipynb",
      "provenance": [],
      "authorship_tag": "ABX9TyMd6GBXO73OoeIAFFimfzG4",
      "include_colab_link": true
    },
    "kernelspec": {
      "name": "python3",
      "display_name": "Python 3"
    }
  },
  "cells": [
    {
      "cell_type": "markdown",
      "metadata": {
        "id": "view-in-github",
        "colab_type": "text"
      },
      "source": [
        "<a href=\"https://colab.research.google.com/github/fitriindra/BigDataCourseExamples/blob/master/Tugas3_PySparkRDD.ipynb\" target=\"_parent\"><img src=\"https://colab.research.google.com/assets/colab-badge.svg\" alt=\"Open In Colab\"/></a>"
      ]
    },
    {
      "cell_type": "markdown",
      "metadata": {
        "id": "mgqjTOZYhIl5",
        "colab_type": "text"
      },
      "source": [
        "### **Instalasi Spark pada Google Colab**\n",
        "kode di bawah ini hanya dijalankan **satu kali saja** saat runtime pertama kali dijalankan\n",
        "\n",
        "Uncomment code di bawah ini untuk instalasi di Google Colab"
      ]
    },
    {
      "cell_type": "code",
      "metadata": {
        "id": "SQtW12Cqgz9G",
        "colab_type": "code",
        "colab": {}
      },
      "source": [
        "#!apt-get install openjdk-8-jdk-headless -qq > /dev/null\n",
        "#!wget -q http://www-eu.apache.org/dist/spark/spark-2.4.5/spark-2.4.5-bin-hadoop2.7.tgz\n",
        "#!tar xf spark-2.4.5-bin-hadoop2.7.tgz\n",
        "#!pip install -q findspark"
      ],
      "execution_count": 1,
      "outputs": []
    },
    {
      "cell_type": "code",
      "metadata": {
        "id": "fuCKT6WThEuq",
        "colab_type": "code",
        "colab": {}
      },
      "source": [
        "import os\n",
        "os.environ[\"JAVA_HOME\"] = \"/usr/lib/jvm/java-8-openjdk-amd64\"\n",
        "os.environ[\"SPARK_HOME\"] = \"/content/spark-2.4.5-bin-hadoop2.7\""
      ],
      "execution_count": 2,
      "outputs": []
    },
    {
      "cell_type": "markdown",
      "metadata": {
        "id": "Yf8U6547hz-T",
        "colab_type": "text"
      },
      "source": [
        "###**Import Library PySpark**"
      ]
    },
    {
      "cell_type": "code",
      "metadata": {
        "id": "wHMiTMQXhH7n",
        "colab_type": "code",
        "colab": {}
      },
      "source": [
        "import findspark\n",
        "findspark.init(\"spark-2.4.5-bin-hadoop2.7\")# SPARK_HOME\n",
        "from pyspark.sql import SparkSession\n",
        "spark = SparkSession.builder.master(\"local[*]\").getOrCreate()\n",
        "sc = spark.sparkContext\n",
        "spark = SparkSession(sc)"
      ],
      "execution_count": 3,
      "outputs": []
    },
    {
      "cell_type": "markdown",
      "metadata": {
        "id": "HTzuFPvrh6VG",
        "colab_type": "text"
      },
      "source": [
        "#**Jawaban Soal Tugas 3**"
      ]
    },
    {
      "cell_type": "markdown",
      "metadata": {
        "id": "-MwSy-DyjM2j",
        "colab_type": "text"
      },
      "source": [
        "###**3. Load file dataset Titanic menggunakan PySpark Shell ke dalam RDD reguler. Tampilkan sample 5 data pertama yang ada pada RDD!**"
      ]
    },
    {
      "cell_type": "code",
      "metadata": {
        "id": "R45A-56YiLkH",
        "colab_type": "code",
        "colab": {
          "base_uri": "https://localhost:8080/",
          "height": 102
        },
        "outputId": "3e21894d-d414-4467-b3a6-6a9b5c46c226"
      },
      "source": [
        "fileRDD = sc.textFile('TitanicData.txt')\n",
        "fileRDD.take(5)"
      ],
      "execution_count": 4,
      "outputs": [
        {
          "output_type": "execute_result",
          "data": {
            "text/plain": [
              "['1,0,3,\"Braund Mr. Owen Harris\",male,22,1,0,A/5 21171,7.25,,S,',\n",
              " '2,1,1,\"Cumings Mrs. John Bradley (Florence Briggs Thayer)\",female,38,1,0,PC 17599,71.2833,C85,C,',\n",
              " '3,1,3,\"Heikkinen Miss. Laina\",female,26,0,0,STON/O2. 3101282,7.925,,S,',\n",
              " '4,1,1,\"Futrelle Mrs. Jacques Heath (Lily May Peel)\",female,35,1,0,113803,53.1,C123,S,',\n",
              " '5,0,3,\"Allen Mr. William Henry\",male,35,0,0,373450,8.05,,S,']"
            ]
          },
          "metadata": {
            "tags": []
          },
          "execution_count": 4
        }
      ]
    },
    {
      "cell_type": "markdown",
      "metadata": {
        "id": "p4bT18A9jOEU",
        "colab_type": "text"
      },
      "source": [
        "###**4. Tampilkan jumlah total data pada dataset menggunakan salah satu actions pada RDD!**"
      ]
    },
    {
      "cell_type": "code",
      "metadata": {
        "id": "V40YbKlKjSCu",
        "colab_type": "code",
        "colab": {
          "base_uri": "https://localhost:8080/",
          "height": 34
        },
        "outputId": "5f33da67-86b0-4b10-ca83-b34b1e563157"
      },
      "source": [
        "fileRDD.count()"
      ],
      "execution_count": 5,
      "outputs": [
        {
          "output_type": "execute_result",
          "data": {
            "text/plain": [
              "891"
            ]
          },
          "metadata": {
            "tags": []
          },
          "execution_count": 5
        }
      ]
    },
    {
      "cell_type": "markdown",
      "metadata": {
        "id": "KEfNoPAKjYlo",
        "colab_type": "text"
      },
      "source": [
        "###**5. Gunakan fungsi ```map()``` untuk memisahkan data dengan menggunakan delimiter/dipisahkan oleh karakter koma ```(,)```! Tampilkan sample 3 data pertama!**"
      ]
    },
    {
      "cell_type": "code",
      "metadata": {
        "id": "IS6Dk9CGjcj1",
        "colab_type": "code",
        "colab": {
          "base_uri": "https://localhost:8080/",
          "height": 680
        },
        "outputId": "3c9b380f-9844-4a45-cd6b-37be5a275294"
      },
      "source": [
        "titanic = fileRDD.map(lambda x:x.split(','))\n",
        "titanic.take(3)"
      ],
      "execution_count": 6,
      "outputs": [
        {
          "output_type": "execute_result",
          "data": {
            "text/plain": [
              "[['1',\n",
              "  '0',\n",
              "  '3',\n",
              "  '\"Braund Mr. Owen Harris\"',\n",
              "  'male',\n",
              "  '22',\n",
              "  '1',\n",
              "  '0',\n",
              "  'A/5 21171',\n",
              "  '7.25',\n",
              "  '',\n",
              "  'S',\n",
              "  ''],\n",
              " ['2',\n",
              "  '1',\n",
              "  '1',\n",
              "  '\"Cumings Mrs. John Bradley (Florence Briggs Thayer)\"',\n",
              "  'female',\n",
              "  '38',\n",
              "  '1',\n",
              "  '0',\n",
              "  'PC 17599',\n",
              "  '71.2833',\n",
              "  'C85',\n",
              "  'C',\n",
              "  ''],\n",
              " ['3',\n",
              "  '1',\n",
              "  '3',\n",
              "  '\"Heikkinen Miss. Laina\"',\n",
              "  'female',\n",
              "  '26',\n",
              "  '0',\n",
              "  '0',\n",
              "  'STON/O2. 3101282',\n",
              "  '7.925',\n",
              "  '',\n",
              "  'S',\n",
              "  '']]"
            ]
          },
          "metadata": {
            "tags": []
          },
          "execution_count": 6
        }
      ]
    },
    {
      "cell_type": "markdown",
      "metadata": {
        "id": "t57-nIQVjuUA",
        "colab_type": "text"
      },
      "source": [
        "###**6. Tampilkan hanya data penumpang yang berjenis kelamin perempuan menggunakan salah satu fungsi transformation pada RDD! Tampilkan sample 3 data pertama!**"
      ]
    },
    {
      "cell_type": "code",
      "metadata": {
        "id": "zoswtdT-j010",
        "colab_type": "code",
        "colab": {
          "base_uri": "https://localhost:8080/",
          "height": 680
        },
        "outputId": "0aab9e8e-d303-49d8-d345-0dda7036b1c2"
      },
      "source": [
        "titanic_female = titanic.filter(lambda row: row[4] == 'female')\n",
        "titanic_female.take(3)"
      ],
      "execution_count": 7,
      "outputs": [
        {
          "output_type": "execute_result",
          "data": {
            "text/plain": [
              "[['2',\n",
              "  '1',\n",
              "  '1',\n",
              "  '\"Cumings Mrs. John Bradley (Florence Briggs Thayer)\"',\n",
              "  'female',\n",
              "  '38',\n",
              "  '1',\n",
              "  '0',\n",
              "  'PC 17599',\n",
              "  '71.2833',\n",
              "  'C85',\n",
              "  'C',\n",
              "  ''],\n",
              " ['3',\n",
              "  '1',\n",
              "  '3',\n",
              "  '\"Heikkinen Miss. Laina\"',\n",
              "  'female',\n",
              "  '26',\n",
              "  '0',\n",
              "  '0',\n",
              "  'STON/O2. 3101282',\n",
              "  '7.925',\n",
              "  '',\n",
              "  'S',\n",
              "  ''],\n",
              " ['4',\n",
              "  '1',\n",
              "  '1',\n",
              "  '\"Futrelle Mrs. Jacques Heath (Lily May Peel)\"',\n",
              "  'female',\n",
              "  '35',\n",
              "  '1',\n",
              "  '0',\n",
              "  '113803',\n",
              "  '53.1',\n",
              "  'C123',\n",
              "  'S',\n",
              "  '']]"
            ]
          },
          "metadata": {
            "tags": []
          },
          "execution_count": 7
        }
      ]
    },
    {
      "cell_type": "markdown",
      "metadata": {
        "id": "UytlLm7jj5TE",
        "colab_type": "text"
      },
      "source": [
        "###**7. Tampilkan jumlah data penumpang yang berjenis kelamin perempuan menggunakan salah satu fungsi transformation pada RDD!**"
      ]
    },
    {
      "cell_type": "code",
      "metadata": {
        "id": "vHJ2be-nkAUZ",
        "colab_type": "code",
        "colab": {
          "base_uri": "https://localhost:8080/",
          "height": 34
        },
        "outputId": "2c14b41e-bc0b-47ea-c8bc-e76542aa99f6"
      },
      "source": [
        "titanic_female.count()"
      ],
      "execution_count": 8,
      "outputs": [
        {
          "output_type": "execute_result",
          "data": {
            "text/plain": [
              "314"
            ]
          },
          "metadata": {
            "tags": []
          },
          "execution_count": 8
        }
      ]
    },
    {
      "cell_type": "markdown",
      "metadata": {
        "id": "MVCvYF1bkEuO",
        "colab_type": "text"
      },
      "source": [
        "###**8. Tampilkan hanya data penumpang yang berjenis kelamin perempuan dan berada pada kelas 3 menggunakan fungsi transformation pada RDD! Tampilkan sample 5 data pertama**"
      ]
    },
    {
      "cell_type": "code",
      "metadata": {
        "id": "DYLkoegukD7W",
        "colab_type": "code",
        "colab": {
          "base_uri": "https://localhost:8080/",
          "height": 1000
        },
        "outputId": "80f78bdd-c350-4545-f379-c809e669b375"
      },
      "source": [
        "titanic_female_class3 = titanic_female.filter(lambda row: row[2] == '3')\n",
        "titanic_female_class3.take(5)"
      ],
      "execution_count": 9,
      "outputs": [
        {
          "output_type": "execute_result",
          "data": {
            "text/plain": [
              "[['3',\n",
              "  '1',\n",
              "  '3',\n",
              "  '\"Heikkinen Miss. Laina\"',\n",
              "  'female',\n",
              "  '26',\n",
              "  '0',\n",
              "  '0',\n",
              "  'STON/O2. 3101282',\n",
              "  '7.925',\n",
              "  '',\n",
              "  'S',\n",
              "  ''],\n",
              " ['9',\n",
              "  '1',\n",
              "  '3',\n",
              "  '\"Johnson Mrs. Oscar W (Elisabeth Vilhelmina Berg)\"',\n",
              "  'female',\n",
              "  '27',\n",
              "  '0',\n",
              "  '2',\n",
              "  '347742',\n",
              "  '11.1333',\n",
              "  '',\n",
              "  'S',\n",
              "  ''],\n",
              " ['11',\n",
              "  '1',\n",
              "  '3',\n",
              "  '\"Sandstrom Miss. Marguerite Rut\"',\n",
              "  'female',\n",
              "  '4',\n",
              "  '1',\n",
              "  '1',\n",
              "  'PP 9549',\n",
              "  '16.7',\n",
              "  'G6',\n",
              "  'S',\n",
              "  ''],\n",
              " ['15',\n",
              "  '0',\n",
              "  '3',\n",
              "  '\"Vestrom Miss. Hulda Amanda Adolfina\"',\n",
              "  'female',\n",
              "  '14',\n",
              "  '0',\n",
              "  '0',\n",
              "  '350406',\n",
              "  '7.8542',\n",
              "  '',\n",
              "  'S',\n",
              "  ''],\n",
              " ['19',\n",
              "  '0',\n",
              "  '3',\n",
              "  '\"Vander Planke Mrs. Julius (Emelia Maria Vandemoortele)\"',\n",
              "  'female',\n",
              "  '31',\n",
              "  '1',\n",
              "  '0',\n",
              "  '345763',\n",
              "  '18',\n",
              "  '',\n",
              "  'S',\n",
              "  '']]"
            ]
          },
          "metadata": {
            "tags": []
          },
          "execution_count": 9
        }
      ]
    }
  ]
}