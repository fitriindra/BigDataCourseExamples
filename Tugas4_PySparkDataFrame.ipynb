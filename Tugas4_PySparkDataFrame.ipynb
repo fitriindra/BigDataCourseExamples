{
  "nbformat": 4,
  "nbformat_minor": 0,
  "metadata": {
    "colab": {
      "name": "Tugas4-PySparkDataFrame.ipynb",
      "provenance": [],
      "authorship_tag": "ABX9TyOwxB3krV75LnvpybyjhIS3",
      "include_colab_link": true
    },
    "kernelspec": {
      "name": "python3",
      "display_name": "Python 3"
    }
  },
  "cells": [
    {
      "cell_type": "markdown",
      "metadata": {
        "id": "view-in-github",
        "colab_type": "text"
      },
      "source": [
        "<a href=\"https://colab.research.google.com/github/fitriindra/BigDataCourseExamples/blob/master/Tugas4_PySparkDataFrame.ipynb\" target=\"_parent\"><img src=\"https://colab.research.google.com/assets/colab-badge.svg\" alt=\"Open In Colab\"/></a>"
      ]
    },
    {
      "cell_type": "markdown",
      "metadata": {
        "id": "OPXJ22hLlPn8",
        "colab_type": "text"
      },
      "source": [
        "### **Instalasi Spark pada Google Colab**\n",
        "kode di bawah ini hanya dijalankan **satu kali saja** saat runtime pertama kali dijalankan\n",
        "\n",
        "Uncomment code di bawah ini untuk instalasi di Google Colab"
      ]
    },
    {
      "cell_type": "code",
      "metadata": {
        "id": "iTgXn8WglDFm",
        "colab_type": "code",
        "colab": {}
      },
      "source": [
        "#!apt-get install openjdk-8-jdk-headless -qq > /dev/null\n",
        "#!wget -q http://www-eu.apache.org/dist/spark/spark-2.4.5/spark-2.4.5-bin-hadoop2.7.tgz\n",
        "#!tar xf spark-2.4.5-bin-hadoop2.7.tgz\n",
        "#!pip install -q findspark"
      ],
      "execution_count": 1,
      "outputs": []
    },
    {
      "cell_type": "code",
      "metadata": {
        "id": "8EGZ36J0lVrz",
        "colab_type": "code",
        "colab": {}
      },
      "source": [
        "import os\n",
        "os.environ[\"JAVA_HOME\"] = \"/usr/lib/jvm/java-8-openjdk-amd64\"\n",
        "os.environ[\"SPARK_HOME\"] = \"/content/spark-2.4.5-bin-hadoop2.7\""
      ],
      "execution_count": 2,
      "outputs": []
    },
    {
      "cell_type": "markdown",
      "metadata": {
        "id": "zapKaHT-lXXS",
        "colab_type": "text"
      },
      "source": [
        "###**Import Library PySpark**"
      ]
    },
    {
      "cell_type": "code",
      "metadata": {
        "id": "_MwWBpYBlY7J",
        "colab_type": "code",
        "colab": {}
      },
      "source": [
        "import findspark\n",
        "findspark.init(\"spark-2.4.5-bin-hadoop2.7\")# SPARK_HOME\n",
        "from pyspark.sql import SparkSession\n",
        "spark = SparkSession.builder.master(\"local[*]\").getOrCreate()\n",
        "sc = spark.sparkContext\n",
        "spark = SparkSession(sc)"
      ],
      "execution_count": 3,
      "outputs": []
    },
    {
      "cell_type": "markdown",
      "metadata": {
        "id": "MMJpWYJElZYv",
        "colab_type": "text"
      },
      "source": [
        "#**Jawaban Soal Tugas 3**"
      ]
    },
    {
      "cell_type": "markdown",
      "metadata": {
        "id": "KCUcNcwFlc6a",
        "colab_type": "text"
      },
      "source": [
        "### **2. Bentuk DataFrame menggunakan file dataset yang telah Anda siapkan pada nomor 1. Tampilkan sample 5 data menggunakan fungsi show()**"
      ]
    },
    {
      "cell_type": "code",
      "metadata": {
        "id": "Ysgbo-m5lbMX",
        "colab_type": "code",
        "colab": {
          "base_uri": "https://localhost:8080/",
          "height": 224
        },
        "outputId": "8f583d2e-8aa2-4c8f-b5d0-112a5be6ff6e"
      },
      "source": [
        "titanic_df = spark.read.csv(\"TitanicData.csv\", header=True, inferSchema=True)\n",
        "titanic_df.show(5)"
      ],
      "execution_count": 4,
      "outputs": [
        {
          "output_type": "stream",
          "text": [
            "+-----------+--------+------+--------------------+------+----+-----+-----+----------------+-------+-----+--------+\n",
            "|PassengerId|Survived|Pclass|                Name|   Sex| Age|SibSp|Parch|          Ticket|   Fare|Cabin|Embarked|\n",
            "+-----------+--------+------+--------------------+------+----+-----+-----+----------------+-------+-----+--------+\n",
            "|          1|       0|     3|Braund Mr. Owen H...|  male|22.0|    1|    0|       A/5 21171|   7.25| null|       S|\n",
            "|          2|       1|     1|Cumings Mrs. John...|female|38.0|    1|    0|        PC 17599|71.2833|  C85|       C|\n",
            "|          3|       1|     3|Heikkinen Miss. L...|female|26.0|    0|    0|STON/O2. 3101282|  7.925| null|       S|\n",
            "|          4|       1|     1|Futrelle Mrs. Jac...|female|35.0|    1|    0|          113803|   53.1| C123|       S|\n",
            "|          5|       0|     3|Allen Mr. William...|  male|35.0|    0|    0|          373450|   8.05| null|       S|\n",
            "+-----------+--------+------+--------------------+------+----+-----+-----+----------------+-------+-----+--------+\n",
            "only showing top 5 rows\n",
            "\n"
          ],
          "name": "stdout"
        }
      ]
    },
    {
      "cell_type": "markdown",
      "metadata": {
        "id": "4-dD4P8DlytS",
        "colab_type": "text"
      },
      "source": [
        "### **3. Tampilkan schema atau struktur data pada dataset menggunakan salah satu fungsi actions pada DataFrame**"
      ]
    },
    {
      "cell_type": "code",
      "metadata": {
        "id": "NDi9dyJ0l1zH",
        "colab_type": "code",
        "colab": {
          "base_uri": "https://localhost:8080/",
          "height": 255
        },
        "outputId": "ccd7a413-9c9d-4d56-f0e7-d02aa2f6115e"
      },
      "source": [
        "titanic_df.printSchema()"
      ],
      "execution_count": 5,
      "outputs": [
        {
          "output_type": "stream",
          "text": [
            "root\n",
            " |-- PassengerId: integer (nullable = true)\n",
            " |-- Survived: integer (nullable = true)\n",
            " |-- Pclass: integer (nullable = true)\n",
            " |-- Name: string (nullable = true)\n",
            " |-- Sex: string (nullable = true)\n",
            " |-- Age: double (nullable = true)\n",
            " |-- SibSp: integer (nullable = true)\n",
            " |-- Parch: integer (nullable = true)\n",
            " |-- Ticket: string (nullable = true)\n",
            " |-- Fare: double (nullable = true)\n",
            " |-- Cabin: string (nullable = true)\n",
            " |-- Embarked: string (nullable = true)\n",
            "\n"
          ],
          "name": "stdout"
        }
      ]
    },
    {
      "cell_type": "markdown",
      "metadata": {
        "id": "wuzz97WFl-hJ",
        "colab_type": "text"
      },
      "source": [
        "### **4. Dengan menggunakan fungsi transformation dan action pada DataFrame, tampilkan penumpang yang berada di kelas (Pclass) 3 saja  dan tampilkan sample 5 data pertama**"
      ]
    },
    {
      "cell_type": "code",
      "metadata": {
        "id": "EolmIvn0mFvz",
        "colab_type": "code",
        "colab": {
          "base_uri": "https://localhost:8080/",
          "height": 224
        },
        "outputId": "2d1044e2-e191-4dfa-99d6-5e91d1e8e85d"
      },
      "source": [
        "titanic_df.filter(titanic_df.Pclass == 3).show(5)"
      ],
      "execution_count": 6,
      "outputs": [
        {
          "output_type": "stream",
          "text": [
            "+-----------+--------+------+--------------------+------+----+-----+-----+----------------+------+-----+--------+\n",
            "|PassengerId|Survived|Pclass|                Name|   Sex| Age|SibSp|Parch|          Ticket|  Fare|Cabin|Embarked|\n",
            "+-----------+--------+------+--------------------+------+----+-----+-----+----------------+------+-----+--------+\n",
            "|          1|       0|     3|Braund Mr. Owen H...|  male|22.0|    1|    0|       A/5 21171|  7.25| null|       S|\n",
            "|          3|       1|     3|Heikkinen Miss. L...|female|26.0|    0|    0|STON/O2. 3101282| 7.925| null|       S|\n",
            "|          5|       0|     3|Allen Mr. William...|  male|35.0|    0|    0|          373450|  8.05| null|       S|\n",
            "|          6|       0|     3|     Moran Mr. James|  male|null|    0|    0|          330877|8.4583| null|       Q|\n",
            "|          8|       0|     3|Palsson Master. G...|  male| 2.0|    3|    1|          349909|21.075| null|       S|\n",
            "+-----------+--------+------+--------------------+------+----+-----+-----+----------------+------+-----+--------+\n",
            "only showing top 5 rows\n",
            "\n"
          ],
          "name": "stdout"
        }
      ]
    },
    {
      "cell_type": "markdown",
      "metadata": {
        "id": "98IcFeBxmNUJ",
        "colab_type": "text"
      },
      "source": [
        "### **5. Dengan menggunakan fungsi transformation dan action pada DataFrame, tampilkan jumlah penumpang berdasarkan kelas penumpang (Pclass). Hasil akhir berupa jumlah penumpang untuk masing-masing kelas (kelas 1, 2, dan 3)**"
      ]
    },
    {
      "cell_type": "code",
      "metadata": {
        "id": "SiKbfmwMmTkY",
        "colab_type": "code",
        "colab": {
          "base_uri": "https://localhost:8080/",
          "height": 153
        },
        "outputId": "9add816c-1281-41ec-9649-c32758a187b5"
      },
      "source": [
        "titanic_df.groupby(\"Pclass\").count().show()"
      ],
      "execution_count": 7,
      "outputs": [
        {
          "output_type": "stream",
          "text": [
            "+------+-----+\n",
            "|Pclass|count|\n",
            "+------+-----+\n",
            "|     1|  216|\n",
            "|     3|  491|\n",
            "|     2|  184|\n",
            "+------+-----+\n",
            "\n"
          ],
          "name": "stdout"
        }
      ]
    },
    {
      "cell_type": "markdown",
      "metadata": {
        "id": "FwUTKn_0mY1P",
        "colab_type": "text"
      },
      "source": [
        "### **6. Dengan menggunakan fungsi transformation dan action pada DataFrame, tampilkan jumlah penumpang berdasarkan jenis kelamin. Hasil akhir berupa jumlah penumpang untuk masing-masing jenis kelamin (male dan female)**"
      ]
    },
    {
      "cell_type": "code",
      "metadata": {
        "id": "HUqXQyXLmfFv",
        "colab_type": "code",
        "colab": {
          "base_uri": "https://localhost:8080/",
          "height": 136
        },
        "outputId": "7e6a84d2-86b2-42ae-b05e-33f7ad416e8e"
      },
      "source": [
        "titanic_df.groupby(\"Sex\").count().show()"
      ],
      "execution_count": 8,
      "outputs": [
        {
          "output_type": "stream",
          "text": [
            "+------+-----+\n",
            "|   Sex|count|\n",
            "+------+-----+\n",
            "|female|  314|\n",
            "|  male|  577|\n",
            "+------+-----+\n",
            "\n"
          ],
          "name": "stdout"
        }
      ]
    },
    {
      "cell_type": "markdown",
      "metadata": {
        "id": "88vjlmznmhzu",
        "colab_type": "text"
      },
      "source": [
        "### **7. Dengan menggunakan fungsi transformation dan action pada DataFrame, tampilkan jumlah penumpang berdasarkan kelas penumpang dan jenis kelamin. Hasil akhir berupa jumlah penumpang untuk masing-masing kelas penumpang dan jenis kelamin. Pasangan kelas-jenis kelamin:``` 1-female, 1-male, 2-female, 2-male, 3-female, 3-male```**"
      ]
    },
    {
      "cell_type": "code",
      "metadata": {
        "id": "U2xWRuRtmtfJ",
        "colab_type": "code",
        "colab": {
          "base_uri": "https://localhost:8080/",
          "height": 204
        },
        "outputId": "60b6feab-0b63-43d5-fa01-07a90233213c"
      },
      "source": [
        "titanic_df.groupby(\"Pclass\", \"Sex\").count().show()"
      ],
      "execution_count": 9,
      "outputs": [
        {
          "output_type": "stream",
          "text": [
            "+------+------+-----+\n",
            "|Pclass|   Sex|count|\n",
            "+------+------+-----+\n",
            "|     2|female|   76|\n",
            "|     3|  male|  347|\n",
            "|     1|  male|  122|\n",
            "|     3|female|  144|\n",
            "|     1|female|   94|\n",
            "|     2|  male|  108|\n",
            "+------+------+-----+\n",
            "\n"
          ],
          "name": "stdout"
        }
      ]
    },
    {
      "cell_type": "markdown",
      "metadata": {
        "id": "cu9wy1jvmywD",
        "colab_type": "text"
      },
      "source": [
        "### **8. Rubahlah kode pada nomor 4 menggunakan Spark SQL dan tampilkan hasil output-nya berupa sample 5 data pertama!**"
      ]
    },
    {
      "cell_type": "code",
      "metadata": {
        "id": "Qx83yQsxm2Fo",
        "colab_type": "code",
        "colab": {
          "base_uri": "https://localhost:8080/",
          "height": 224
        },
        "outputId": "031786dd-f0ad-4e64-b7e8-886f14e776f3"
      },
      "source": [
        "titanic_df.createOrReplaceTempView(\"titanic\")\n",
        "spark.sql(\"SELECT * FROM titanic WHERE Pclass = 3\").show(5)"
      ],
      "execution_count": 10,
      "outputs": [
        {
          "output_type": "stream",
          "text": [
            "+-----------+--------+------+--------------------+------+----+-----+-----+----------------+------+-----+--------+\n",
            "|PassengerId|Survived|Pclass|                Name|   Sex| Age|SibSp|Parch|          Ticket|  Fare|Cabin|Embarked|\n",
            "+-----------+--------+------+--------------------+------+----+-----+-----+----------------+------+-----+--------+\n",
            "|          1|       0|     3|Braund Mr. Owen H...|  male|22.0|    1|    0|       A/5 21171|  7.25| null|       S|\n",
            "|          3|       1|     3|Heikkinen Miss. L...|female|26.0|    0|    0|STON/O2. 3101282| 7.925| null|       S|\n",
            "|          5|       0|     3|Allen Mr. William...|  male|35.0|    0|    0|          373450|  8.05| null|       S|\n",
            "|          6|       0|     3|     Moran Mr. James|  male|null|    0|    0|          330877|8.4583| null|       Q|\n",
            "|          8|       0|     3|Palsson Master. G...|  male| 2.0|    3|    1|          349909|21.075| null|       S|\n",
            "+-----------+--------+------+--------------------+------+----+-----+-----+----------------+------+-----+--------+\n",
            "only showing top 5 rows\n",
            "\n"
          ],
          "name": "stdout"
        }
      ]
    },
    {
      "cell_type": "markdown",
      "metadata": {
        "id": "USc17WM0m-8a",
        "colab_type": "text"
      },
      "source": [
        "### **9. Rubahlah kode pada nomor 5 menggunakan Spark SQL**"
      ]
    },
    {
      "cell_type": "code",
      "metadata": {
        "id": "dPs12tEanCE7",
        "colab_type": "code",
        "colab": {
          "base_uri": "https://localhost:8080/",
          "height": 153
        },
        "outputId": "4e767cb4-cc15-4385-c23c-370034207986"
      },
      "source": [
        "spark.sql(\"SELECT Pclass, count(*) FROM titanic GROUP BY Pclass\").show()"
      ],
      "execution_count": 11,
      "outputs": [
        {
          "output_type": "stream",
          "text": [
            "+------+--------+\n",
            "|Pclass|count(1)|\n",
            "+------+--------+\n",
            "|     1|     216|\n",
            "|     3|     491|\n",
            "|     2|     184|\n",
            "+------+--------+\n",
            "\n"
          ],
          "name": "stdout"
        }
      ]
    },
    {
      "cell_type": "markdown",
      "metadata": {
        "id": "A1XfV-PWnHkb",
        "colab_type": "text"
      },
      "source": [
        "### **10. Rubahlah kode pada nomor 6 menggunakan Spark SQL dan tampilkan hasil output-nya!**"
      ]
    },
    {
      "cell_type": "code",
      "metadata": {
        "id": "HTD6D09vnPW7",
        "colab_type": "code",
        "colab": {
          "base_uri": "https://localhost:8080/",
          "height": 136
        },
        "outputId": "b7f0fb0e-27ed-463e-d99a-3dd7dbe6d41b"
      },
      "source": [
        "spark.sql(\"SELECT Sex, count(*) FROM titanic GROUP BY Sex\").show()"
      ],
      "execution_count": 12,
      "outputs": [
        {
          "output_type": "stream",
          "text": [
            "+------+--------+\n",
            "|   Sex|count(1)|\n",
            "+------+--------+\n",
            "|female|     314|\n",
            "|  male|     577|\n",
            "+------+--------+\n",
            "\n"
          ],
          "name": "stdout"
        }
      ]
    },
    {
      "cell_type": "markdown",
      "metadata": {
        "id": "jriMNch4nbCq",
        "colab_type": "text"
      },
      "source": [
        "### **Soal bonus: Dengan menggunakan operasi-operasi transformations dan actions pada pair RDD, tampilkan jumlah penumpang berjenis kelamin perempuan yang selamat berdasarkan kelasnya**"
      ]
    },
    {
      "cell_type": "code",
      "metadata": {
        "id": "MY_piN9WneHQ",
        "colab_type": "code",
        "colab": {
          "base_uri": "https://localhost:8080/",
          "height": 153
        },
        "outputId": "14ccf2a5-d06a-4afe-d246-bb88fbe80f40"
      },
      "source": [
        "spark.sql(\"SELECT PClass, count(*) FROM titanic WHERE Sex = 'female' GROUP BY PClass, Sex\").show()"
      ],
      "execution_count": 13,
      "outputs": [
        {
          "output_type": "stream",
          "text": [
            "+------+--------+\n",
            "|PClass|count(1)|\n",
            "+------+--------+\n",
            "|     2|      76|\n",
            "|     3|     144|\n",
            "|     1|      94|\n",
            "+------+--------+\n",
            "\n"
          ],
          "name": "stdout"
        }
      ]
    }
  ]
}